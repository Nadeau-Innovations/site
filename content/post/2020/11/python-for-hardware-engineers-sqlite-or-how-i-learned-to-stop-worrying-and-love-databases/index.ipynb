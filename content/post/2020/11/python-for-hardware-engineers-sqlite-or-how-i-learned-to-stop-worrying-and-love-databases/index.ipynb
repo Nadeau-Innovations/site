{
 "cells": [
  {
   "cell_type": "markdown",
   "metadata": {},
   "source": [
    "---\n",
    " \n",
    "title: \"Python for Hardware Engineers: SQLite or; How I Learned to Stop Worrying and Love Databases\"\n",
    "subtitle: \"\"\n",
    "summary: \"\"\n",
    "authors: []\n",
    "tags: [\"data\", \"databases\", \"dict\", \"disk\", \"engineers\", \"hardware\", \"peewee\", \"sql\", \"model\", \"python\", \"record\", \"table\"]\n",
    "categories: []\n",
    "date: 2020-11-10T21:35:08-05:00\n",
    "lastmod: 2020-11-10T21:35:08-05:00\n",
    "featured: false\n",
    "draft: false\n",
    "image:\n",
    "  caption: \"\"\n",
    "  focal_point: \"\"\n",
    "  preview_only: false\n",
    "projects: []\n",
    " \n",
    "---"
   ]
  },
  {
   "cell_type": "markdown",
   "metadata": {},
   "source": [
    "Design that is backed by data proves that your work is on the right track.\n",
    "It reveals the pain points, flaws, and opportunities, while unearthing new trends and improves your designs by adding objectivity.\n",
    "\n",
    "Data collection, processing, and analysis are fundamental skills that engineers need to create effective solutions and data-driven designs.\n",
    "A big reason for this [Python for Hardware Engineers]({{< ref \"/post/2020/10/new-series-python-for-hardware-engineering\" >}}) series is because I believe that the standard educational pathways that hardware engineers follow isn't sufficient for modern data-driven practices.\n",
    "\n",
    "In university, mechanical and electrical engineering lab sessions required us to collect maybe few dozen data points and produce a report.\n",
    "Even our [semi-realistic temperature and humidity data processing example using a real data logger]({{< ref \"/post/2020/10/python-for-hardware-engineers-analyzing-temperature-sensor-data\" >}}) only collected recordings at 30min intervals.\n",
    "This would only produce a few hundred recordings during a week of constant data collection, something which Excel or simple `pandas` scripts can easily handle.\n",
    "\n",
    "But what happens when we collect more data?\n",
    "At what point does data get \"big\" for a hardware engineer?\n",
    "When do I need a fancy database?\n",
    "\n",
    "Well, I'll let you in on a little secret: 95% of the time, recording data to disk is perfectly fine for what we do.\n",
    "It's just that last 5% of the time where we wished we had used a database...\n",
    "\n",
    "## Saving Data to Disk\n",
    "\n",
    "There's nothing I love more than setting up an experiment, clicking go, and watching my PC monitor the progress.\n",
    "For example, when I developed a [closed-loop robot calibration technique]({{< ref \"publication/nadeau-2019-impedance\" >}}), I sat back and watched my collaborative robot dance around for a while as my laptop recorded each robot pose and laser tracker measure.\n",
    "All this data was recorded straight to my hard drive.\n",
    "\n",
    "![Robot Calibration](IMG_7420.jpg)\n",
    "\n",
    "How much data was collected to successfully calibrate a robot's absolute accuracy?\n",
    "Just 1875 measures. That's it. No need for a database here.\n",
    "As a matter of fact, I designed the recording function to dump each measure straight to disk as a JSON file, such that nothing was kept in memory for too long, just in case an error occurred (read: robot collision).\n",
    "\n",
    "So here I present the most important data collection functions for a hardware engineer:"
   ]
  },
  {
   "cell_type": "code",
   "execution_count": 1,
   "metadata": {},
   "outputs": [],
   "source": [
    "import datetime\n",
    "import json\n",
    "from pathlib import Path\n",
    "\n",
    "# these gloabls would preferably be in a config file\n",
    "# i recommend looking into https://www.dynaconf.com/\n",
    "DATA_DIR = Path() / \"output\"\n",
    "DATA_DIR.mkdir(exist_ok=True)\n",
    "\n",
    "\n",
    "def record_data() -> dict:\n",
    "    \"\"\"Fetch the (fake) data and return it as a Python dict\"\"\"\n",
    "    data = {}\n",
    "    # get data from somewhere, e.g.:\n",
    "    data[\"temperature\"] = 23  # degC\n",
    "    data[\"humidity\"] = 60  # % RH\n",
    "    return data\n",
    "\n",
    "\n",
    "def save_data(data: dict, dir_path: Path) -> None:\n",
    "    \"\"\"Save the data to an output folder\"\"\"\n",
    "    # datetime strings make for great pseudo-unique,\n",
    "    # sequential filename prefixes\n",
    "    now = datetime.datetime.now().strftime(\"%Y-%m-%d_%H-%M-%S_%f\")\n",
    "\n",
    "    # dump the dict->json data to disk\n",
    "    # this can easily be done async or in a separate thread\n",
    "    path = dir_path / f\"{now}_recording.json\"\n",
    "    with open(path, \"w\") as f:\n",
    "        json.dump(data, f)\n",
    "\n",
    "\n",
    "# the following functions would be\n",
    "# inside your \"data collection\" loop:\n",
    "\n",
    "# 1) get data\n",
    "d = record_data()\n",
    "\n",
    "# 2) dump to disk\n",
    "save_data(d, DATA_DIR)"
   ]
  },
  {
   "cell_type": "markdown",
   "metadata": {},
   "source": [
    "The above functions will serve you perfectly well up to a few thousand recordings.\n",
    "As such, my general philosophy for when to save data straight to disk:\n",
    "\n",
    "- When I have unstructured data in reasonable amounts that the file system can handle\n",
    "- When I don't want or can't deal with the overhead a database will add\n",
    "\n",
    "## When Data Gets Too Big\n",
    "\n",
    "At [AON3D](https://www.aon3d.com/) we have an internal fleet of printers used for customer success, engineering, R&D, and sales.\n",
    "As an experiment and side-project, I started recording all our prototype printers' temperatures (two toolhead sensors, one chamber sensor, and one bed sensor) over time to have a better understanding of system reliability and \"hot-time\" during engineering development and testing. \n",
    "\n",
    "Each printer reports its temperature at a rate of 1Hz.\n",
    "I record 2s of data, per printer, every 5min to have a high-level overview of our internal fleet.\n",
    "Each week I produce over 40K recordings totaling several hundred megabytes of data.\n",
    "\n",
    "Initially, I was lazy and dumped the data to disk using the method described above.\n",
    "Each week I ran a script that consolidates the data to a CSV, such that other stakeholders can have easy access and weekly reports.\n",
    "The consolidation process took several minutes as each JSON file is loaded into memory, parsed into a `pandas` Series, concatenated into a DataFrame, and then exported. \n",
    "\n",
    "This is when data starts to get too big for saving to disk.\n",
    "\n",
    "## Meet SQLite and `peewee`\n",
    "\n",
    "SQLite is a relational database system contained in a small C library. \n",
    "In contrast to many other databases, SQLite is not a client–server engine, but rather it is embedded into the end program.\n",
    "\n",
    "In Python, SQLite is a library that provides a lightweight disk-based database that doesn’t require a separate server process.\n",
    "It's the next step after dumping to disk and allows for future growth as you can one day port the code to a larger database, like PostgreSQL.\n",
    "As a super basic overview of SQL:\n",
    "\n",
    "- A database can have multiple tables (think Excel workbook having multiple sheets/tabs)\n",
    "- Each table stores a set of data in rows and columns\n",
    "- Each column is a data field and has a specific type (e.g., `int`, `float`, `str`, `datetime`, `bool`)\n",
    "- Each row is an instance of data across all columns (i.e., a recording)\n",
    "\n",
    "Fortunately, SQLite is built-in to Python, but using it directly is not necessarily too intuitive or \"Pythonic\".\n",
    "As a solution, I recommend [`peewee`](https://github.com/coleifer/peewee/), a simple and small [object-relational-mapping (ORM)](https://en.wikipedia.org/wiki/Object%E2%80%93relational_mapping).\n",
    "It has few expressive concepts to make it easy to learn and intuitive to use as a \"Pythonic\" wrapper around SQLite:\n",
    "\n",
    "|`peewee` Object|Corresponds to…|\n",
    "|---|---|\n",
    "|Model class|Database table|\n",
    "|Field instance|Column on a table|\n",
    "|Model instance|Row in a database table|\n",
    "\n",
    "Let's create some fake data (based off the previous example) and take a look:"
   ]
  },
  {
   "cell_type": "code",
   "execution_count": 2,
   "metadata": {},
   "outputs": [],
   "source": [
    "import datetime\n",
    "\n",
    "from peewee import DateTimeField, FloatField, Model, SqliteDatabase\n",
    "\n",
    "# we're using `:memory:` for this example,\n",
    "# but you can use a filename (e.g., `my-database.db`)\n",
    "# if you want to save the database to disk\n",
    "db = SqliteDatabase(\":memory:\")\n",
    "\n",
    "\n",
    "class BaseModel(Model):\n",
    "    \"\"\"Base class that we can share across various data models\"\"\"\n",
    "\n",
    "    class Meta:\n",
    "        database = db\n",
    "\n",
    "\n",
    "class Recording(BaseModel):\n",
    "    \"\"\"Fake data model for temperature/humidity measurement\"\"\"\n",
    "\n",
    "    # datetime of recording\n",
    "    # the `default` argument will auto-fill this field for us!\n",
    "    timestamp = DateTimeField(default=datetime.datetime.now)\n",
    "\n",
    "    # standard numeric data fields\n",
    "    temperature = FloatField()\n",
    "    humidity = FloatField()\n",
    "\n",
    "\n",
    "# test the database connection\n",
    "db.connect()\n",
    "\n",
    "# create the db tables\n",
    "db.create_tables([Recording])"
   ]
  },
  {
   "cell_type": "code",
   "execution_count": 3,
   "metadata": {},
   "outputs": [
    {
     "name": "stdout",
     "output_type": "stream",
     "text": [
      "Temp: 25\n",
      "RH: 60\n"
     ]
    }
   ],
   "source": [
    "# create a recording instance, i.e., a data row\n",
    "recording = Recording.create(temperature=25, humidity=60)\n",
    "\n",
    "# we can use the model instance like an object\n",
    "print(f\"Temp: {recording.temperature}\")\n",
    "print(f\"RH: {recording.humidity}\")"
   ]
  },
  {
   "cell_type": "code",
   "execution_count": 4,
   "metadata": {},
   "outputs": [],
   "source": [
    "# or create data from a good-old dict\n",
    "d = {\"temperature\": 30, \"humidity\": 80}\n",
    "recording = Recording.create(**d)"
   ]
  },
  {
   "cell_type": "markdown",
   "metadata": {},
   "source": [
    "Going back to Python objects is also quite easy:"
   ]
  },
  {
   "cell_type": "code",
   "execution_count": 5,
   "metadata": {},
   "outputs": [
    {
     "data": {
      "text/plain": [
       "{'id': 2,\n",
       " 'timestamp': datetime.datetime(2020, 11, 16, 20, 57, 50, 16240),\n",
       " 'temperature': 30,\n",
       " 'humidity': 80}"
      ]
     },
     "execution_count": 5,
     "metadata": {},
     "output_type": "execute_result"
    }
   ],
   "source": [
    "# import included helper functions\n",
    "from playhouse.shortcuts import model_to_dict\n",
    "\n",
    "# convert a row/instance back to dict!\n",
    "model_to_dict(recording)"
   ]
  },
  {
   "cell_type": "code",
   "execution_count": 6,
   "metadata": {},
   "outputs": [
    {
     "data": {
      "text/plain": [
       "[{'id': 1,\n",
       "  'timestamp': datetime.datetime(2020, 11, 16, 20, 57, 49, 986195),\n",
       "  'temperature': 25.0,\n",
       "  'humidity': 60.0},\n",
       " {'id': 2,\n",
       "  'timestamp': datetime.datetime(2020, 11, 16, 20, 57, 50, 16240),\n",
       "  'temperature': 30.0,\n",
       "  'humidity': 80.0}]"
      ]
     },
     "execution_count": 6,
     "metadata": {},
     "output_type": "execute_result"
    }
   ],
   "source": [
    "# convert the whole table back to dicts\n",
    "list(Recording.select().dicts())"
   ]
  },
  {
   "cell_type": "markdown",
   "metadata": {},
   "source": [
    "This intuitive back and forth between an SQL database and Python objects also makes it easy to bring in our favourite tools, like `pandas`:"
   ]
  },
  {
   "cell_type": "code",
   "execution_count": 7,
   "metadata": {},
   "outputs": [
    {
     "data": {
      "text/html": [
       "<div>\n",
       "<style scoped>\n",
       "    .dataframe tbody tr th:only-of-type {\n",
       "        vertical-align: middle;\n",
       "    }\n",
       "\n",
       "    .dataframe tbody tr th {\n",
       "        vertical-align: top;\n",
       "    }\n",
       "\n",
       "    .dataframe thead th {\n",
       "        text-align: right;\n",
       "    }\n",
       "</style>\n",
       "<table border=\"1\" class=\"dataframe\">\n",
       "  <thead>\n",
       "    <tr style=\"text-align: right;\">\n",
       "      <th></th>\n",
       "      <th>id</th>\n",
       "      <th>timestamp</th>\n",
       "      <th>temperature</th>\n",
       "      <th>humidity</th>\n",
       "    </tr>\n",
       "  </thead>\n",
       "  <tbody>\n",
       "    <tr>\n",
       "      <th>0</th>\n",
       "      <td>1</td>\n",
       "      <td>2020-11-16 20:57:49.986195</td>\n",
       "      <td>25.0</td>\n",
       "      <td>60.0</td>\n",
       "    </tr>\n",
       "    <tr>\n",
       "      <th>1</th>\n",
       "      <td>2</td>\n",
       "      <td>2020-11-16 20:57:50.016240</td>\n",
       "      <td>30.0</td>\n",
       "      <td>80.0</td>\n",
       "    </tr>\n",
       "  </tbody>\n",
       "</table>\n",
       "</div>"
      ],
      "text/plain": [
       "   id                  timestamp  temperature  humidity\n",
       "0   1 2020-11-16 20:57:49.986195         25.0      60.0\n",
       "1   2 2020-11-16 20:57:50.016240         30.0      80.0"
      ]
     },
     "execution_count": 7,
     "metadata": {},
     "output_type": "execute_result"
    }
   ],
   "source": [
    "import pandas as pd\n",
    "\n",
    "# convert the whole SQL table to a pd.DataFrame\n",
    "pd.DataFrame(Recording.select().dicts())"
   ]
  },
  {
   "cell_type": "code",
   "execution_count": 8,
   "metadata": {},
   "outputs": [
    {
     "data": {
      "text/plain": [
       "id                                      2\n",
       "timestamp      2020-11-16 20:57:50.016240\n",
       "temperature                            30\n",
       "humidity                               80\n",
       "dtype: object"
      ]
     },
     "execution_count": 8,
     "metadata": {},
     "output_type": "execute_result"
    }
   ],
   "source": [
    "# convert a row/record to a pd.Series\n",
    "pd.Series(model_to_dict(Recording.select().where(Recording.temperature == 30).get()))"
   ]
  },
  {
   "cell_type": "markdown",
   "metadata": {},
   "source": [
    "## Discussion\n",
    "\n",
    "So that's the gist of it.\n",
    "Databases don't have to be too much of a headache, especially when we have access to a disk-based database like SQLite.\n",
    "It's the next step in an iterative approach to design, especially when jumping straight to cloud/docker/client-server databases doesn't make sense.\n",
    "\n",
    "Just as in hardware design, the KISS principle should be our focus for data collection and analysis.\n",
    "Most systems, including our data infrastructure, work best if they are kept simple rather than made complicated.\n",
    "Simplicity should be a key goal in design, and unnecessary complexity should be avoided. "
   ]
  }
 ],
 "metadata": {
  "kernelspec": {
   "display_name": "Python 3",
   "language": "python",
   "name": "python3"
  },
  "language_info": {
   "codemirror_mode": {
    "name": "ipython",
    "version": 3
   },
   "file_extension": ".py",
   "mimetype": "text/x-python",
   "name": "python",
   "nbconvert_exporter": "python",
   "pygments_lexer": "ipython3",
   "version": "3.8.6"
  }
 },
 "nbformat": 4,
 "nbformat_minor": 4
}
