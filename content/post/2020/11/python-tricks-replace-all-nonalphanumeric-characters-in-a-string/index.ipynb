{
 "cells": [
  {
   "cell_type": "markdown",
   "metadata": {},
   "source": [
    "---\n",
    "\n",
    "title: \"Python Tricks: Replace All Non-alphanumeric Characters in a String\"\n",
    "subtitle: \"\"\n",
    "summary: \"\"\n",
    "authors: []\n",
    "tags: [\"\", \"string\", \"data\", \"filter\", \"\", \"performance\", \"python\", \"regex\", \"str\", \"temperature\"]\n",
    "categories: []\n",
    "date: 2020-11-07T09:53:15-b05:00\n",
    "lastmod: 2020-11-07T09:53:15-05:00\n",
    "featured: false\n",
    "draft: false\n",
    "\n",
    "image:\n",
    "  caption: \"\"\n",
    "  focal_point: \"\"\n",
    "  preview_only: false\n",
    "\n",
    "projects: []\n",
    "\n",
    "---"
   ]
  },
  {
   "cell_type": "markdown",
   "metadata": {},
   "source": [
    "I have a confession to make: I'm a stickler for filenames.\n",
    "I wholeheartedly believe that all filenames and paths should be [`kebab case`](https://en.wiktionary.org/wiki/kebab_case) or [`snake case`](https://en.wikipedia.org/wiki/Snake_case).\n",
    "Spaces, capitalization, and non-alphanumeric characters drive me nuts.\n",
    "\n",
    "My obsession comes from my years of jumping back and forth between Linux (programming, servers), Windows ([CAD](https://www.solidworks.com/)), and MacOS (personal laptop), where each system has different *de facto* filename standards.\n",
    "As such, I eventually converged towards simple and draconian filenames to ensure easy data scraping when I needed to make automation.\n",
    "\n",
    "Now, I understand there are times when this level of rigidity doesn't fully make sense.\n",
    "One example is in mechanical engineering when working with a [PDM system](https://en.wikipedia.org/wiki/Product_data_management) (and non-developer stakeholders).\n",
    "Common practice is to have your filenames as `<SKU> - <Part Name>.<Extension>` (e.g., `ABC123 - Big Bolt.sldprt`). \n",
    "Yes, there are spaces, but as long as the schema is enforced, the database will still be easily machine parsable.\n",
    "\n",
    "If we extend this line of thought from filenames to a generalized \"path\" or \"resource location\" (e.g., URLs, data column headings, data labels), strict and consistent schemas are import, as the devil in the details.\n",
    "\n",
    "And non-alphanumeric characters are evil.\n",
    "They just causes headaches for everyone.\n",
    "\n",
    "## Sanitize All Strings\n",
    "\n",
    "String validation and sanitization ensures that a string meets a set of criteria (validation) or modifies it to conform to a schema (sanitization).\n",
    "As discussed above, there are plenty of important situations where incoming strings (e.g., data labels, paths, filenames) may not conform to a standard and behave unexpectedly.\n",
    "As previously discussed in the [temperature and humidity data analysis post]({{< ref \"post/2020/10/python-for-hardware-engineers-analyzing-temperature-sensor-data\" >}}), the `Extract` and `Transform` steps of an [ETL workflow](https://en.wikipedia.org/wiki/Extract,_transform,_load) typically applies some data cleaning.\n",
    "Stripping non-alphanumeric characters is a simple and useful step for many data processing applications.\n",
    "\n",
    "As seen in [our previous post]({{< ref \"post/2020/10/python-for-hardware-engineers-analyzing-temperature-sensor-data\" >}}), the data logger tried to be fancy and used the (evil) degree symbol (`°C`) and the percent sign (`%RH`) for the temperature and humidity column headers, respectively.\n",
    "Unfortunately, this is not uncommon, and while Excel parses these strings normally, we can't always guarantee how different systems or programs will react.\n",
    "For example in LaTeX, the percent sign is the special character for comments, and thus needs to be escaped (`\\%`) else you'll have a bad day.\n",
    "\n",
    "So let's take a look at how to efficiently clean strings in Python.\n",
    "Given an ugly string:"
   ]
  },
  {
   "cell_type": "code",
   "execution_count": 1,
   "metadata": {},
   "outputs": [],
   "source": [
    "ugly_string = \"Temperature [°C]\""
   ]
  },
  {
   "cell_type": "markdown",
   "metadata": {},
   "source": [
    "We have three choices: two [Pythonic ways](https://www.python.org/dev/peps/pep-0020/) and one [overkill way](https://en.wikipedia.org/wiki/Regular_expression).\n",
    "Let's also assume that we want to keep whitespace characters."
   ]
  },
  {
   "cell_type": "markdown",
   "metadata": {},
   "source": [
    "### Pythonic Cleaning: List Comprehension\n",
    "\n",
    "A non-optimized, but explicit and easy to read approach is to simply use [list comprehension](https://docs.python.org/3/tutorial/datastructures.html#list-comprehensions) to strip a string of non-alphanumeric characters.\n",
    "In Python, [a `str` object is a type of sequence](https://docs.python.org/3/library/stdtypes.html#text-sequence-type-str), which is why list comprehension methods work.\n",
    "We'll use the built-in [`isalnum()`](https://docs.python.org/3/library/stdtypes.html#str.isalnum) to check for alphanumeric characters and [`isspace()`](https://docs.python.org/3/library/stdtypes.html#str.isspace) to check for whitespace."
   ]
  },
  {
   "cell_type": "code",
   "execution_count": 2,
   "metadata": {},
   "outputs": [
    {
     "data": {
      "text/plain": [
       "'Temperature C'"
      ]
     },
     "execution_count": 2,
     "metadata": {},
     "output_type": "execute_result"
    }
   ],
   "source": [
    "# list comprehension that filters out bad characters\n",
    "clean_string = [s for s in ugly_string if s.isalnum() or s.isspace()]\n",
    "\n",
    "# rejoin intermediate list into a string\n",
    "clean_string = \"\".join(clean_string)\n",
    "\n",
    "clean_string"
   ]
  },
  {
   "cell_type": "markdown",
   "metadata": {},
   "source": [
    "### Pythonic Cleaning: Filter\n",
    "\n",
    "A second explicit approach is to use the [built-in `filter()` function](https://docs.python.org/3/library/functions.html#filter) to filter out non-compliant characters.\n",
    "This is a fun function that's useful in a variety of scenarios, especially when combined with [lambda functions](https://docs.python.org/3/tutorial/controlflow.html#lambda-expressions).\n",
    "\n",
    "The `filter()` function is quite simple: it takes a function that returns `bool` and an iterable.\n",
    "For each element of the iterable, the given function returns `True` or `False`.\n",
    "Only elements that return `True` are kept."
   ]
  },
  {
   "cell_type": "code",
   "execution_count": 3,
   "metadata": {},
   "outputs": [
    {
     "data": {
      "text/plain": [
       "'Temperature C'"
      ]
     },
     "execution_count": 3,
     "metadata": {},
     "output_type": "execute_result"
    }
   ],
   "source": [
    "# use filter to keep just alphanumeric characters\n",
    "filter(str.isalnum, ugly_string)\n",
    "\n",
    "# or use filter to return alphanumeric and whitespace\n",
    "clean_string = filter(lambda x: x.isalnum() or x.isspace(), ugly_string)\n",
    "\n",
    "# filter returns a generator, so we need to re-join the string\n",
    "clean_string = \"\".join(clean_string)\n",
    "\n",
    "clean_string"
   ]
  },
  {
   "cell_type": "markdown",
   "metadata": {},
   "source": [
    "### Overkill Cleaning: Regex\n",
    "\n",
    "Our final approach is to use [Regular Expressions (regex)](https://en.wikipedia.org/wiki/Regular_expression).\n",
    "Regex is truly powerful and can be used in a variety of situations and across all programming languages.\n",
    "Even though it has a relatively difficult learning curve, it's definitely something that most developers and engineers should try understand and get familiar with.\n",
    "\n",
    "However in my humble opinion, depending on the context, it's overkill.\n",
    "\n",
    "The problem with regex is that it's too powerful and too flexible.\n",
    "The Pythonic approaches shown above are easy to read, easy to debug, and easy to understand their scope.\n",
    "Regex requires the developer [to test the expression](https://regexr.com/) (unless you're some kind of regex wizard) and check for corners cases.\n",
    "While this post's example is quite trivial, not all scenarios will be as forgiving.\n",
    "\n",
    "The core component of this approach is the regex pattern.\n",
    "For this example, we'll be using `\"[^0-9a-zA-Z\\s]+\"`.\n",
    "As explained by a [regex testing website](https://regexr.com/), this pattern includes the following elements:\n",
    "\n",
    "- `[^...]`: Negated set that matches any character NOT in the set\n",
    "- `0-9`: Matches numeric characters in the given range\n",
    "- `a-z`: Matches lowercase alphabetic characters in the given range\n",
    "- `A-Z`: Matches uppercase alphabetic characters in the given range\n",
    "- `\\s`: Matches any whitespace character\n",
    "- `+`: Matches one or more of the previous element (i.e., the negated set)"
   ]
  },
  {
   "cell_type": "code",
   "execution_count": 4,
   "metadata": {},
   "outputs": [
    {
     "data": {
      "text/plain": [
       "'Temperature C'"
      ]
     },
     "execution_count": 4,
     "metadata": {},
     "output_type": "execute_result"
    }
   ],
   "source": [
    "# import the built-in regex library\n",
    "import re\n",
    "\n",
    "# define our regex expression\n",
    "pattern = \"[^0-9a-zA-Z\\s]+\"\n",
    "\n",
    "# perform a regex substitution to clean the string\n",
    "clean_string = re.sub(pattern, \"\", ugly_string)\n",
    "\n",
    "clean_string"
   ]
  },
  {
   "cell_type": "markdown",
   "metadata": {},
   "source": [
    "## Performance\n",
    "\n",
    "But Nicholas!\n",
    "I don't care about readability; I just care about optimized performance!\n",
    "\n",
    "Well, let's take a look.\n",
    "As shown below, I've consolidated the three approaches into small functions for performance testing.\n",
    "I'll also be using a very long [*Lorem Ipsum* (lipsum)](https://www.lipsum.com/) string to test the performance, so as to not have biased results from short text.\n",
    "The filters will strip period, commas, and other punctuation from the lipsum text.\n",
    "This string should be longer than any URL, data column header, filename, or other data label that would be sanitized in an engineering context."
   ]
  },
  {
   "cell_type": "code",
   "execution_count": 5,
   "metadata": {},
   "outputs": [],
   "source": [
    "def clean_list_comprehension(s: str) -> str:\n",
    "    return \"\".join([x for x in s if x.isalnum() or x.isspace()])\n",
    "\n",
    "\n",
    "def clean_filter(s: str) -> str:\n",
    "    return \"\".join(filter(lambda x: x.isalnum() or x.isspace(), s))\n",
    "\n",
    "\n",
    "def clean_regex(s: str, pattern: str = \"[^0-9a-zA-Z\\s]+\") -> str:\n",
    "    return re.sub(pattern, \"\", s)\n",
    "\n",
    "\n",
    "very_long_string = \"Lorem ipsum dolor sit amet, consectetur adipiscing elit. Nullam porttitor venenatis dictum. Sed nec eros leo. Donec eget velit diam. In vitae auctor quam. Aenean quam dolor, euismod quis varius non, elementum in enim. Fusce tincidunt, lorem et egestas sagittis, nunc neque finibus justo, id faucibus risus elit non enim. Integer vitae sagittis mauris, ut egestas quam. Vivamus ut dolor sodales, dignissim sapien in, vulputate sem. Lorem ipsum dolor sit amet, consectetur adipiscing elit. Quisque justo nisl, iaculis ac nisl vel, maximus finibus urna. Pellentesque aliquam orci in ultrices bibendum. Donec eu dui finibus, commodo ex at, tempor mauris. Praesent eu quam venenatis, lacinia ex lobortis, finibus eros. Morbi pharetra interdum magna, rhoncus dignissim mauris consectetur quis.\""
   ]
  },
  {
   "cell_type": "markdown",
   "metadata": {},
   "source": [
    "Using the [built-in Jupyter magic command `timeit`](https://ipython.readthedocs.io/en/stable/interactive/magics.html#magic-timeit), we can validate the performance of each method:"
   ]
  },
  {
   "cell_type": "code",
   "execution_count": 6,
   "metadata": {},
   "outputs": [
    {
     "name": "stdout",
     "output_type": "stream",
     "text": [
      "49.4 µs ± 285 ns per loop (mean ± std. dev. of 7 runs, 10000 loops each)\n"
     ]
    }
   ],
   "source": [
    "%timeit clean_list_comprehension(very_long_string)"
   ]
  },
  {
   "cell_type": "code",
   "execution_count": 7,
   "metadata": {},
   "outputs": [
    {
     "name": "stdout",
     "output_type": "stream",
     "text": [
      "76.7 µs ± 1.69 µs per loop (mean ± std. dev. of 7 runs, 10000 loops each)\n"
     ]
    }
   ],
   "source": [
    "%timeit clean_filter(very_long_string)"
   ]
  },
  {
   "cell_type": "code",
   "execution_count": 8,
   "metadata": {},
   "outputs": [
    {
     "name": "stdout",
     "output_type": "stream",
     "text": [
      "16.5 µs ± 325 ns per loop (mean ± std. dev. of 7 runs, 100000 loops each)\n"
     ]
    }
   ],
   "source": [
    "%timeit clean_regex(very_long_string)"
   ]
  },
  {
   "cell_type": "markdown",
   "metadata": {},
   "source": [
    "So while it appears that the regex approach is technically the winner, the Pythonic methods are close enough.\n",
    "Readability is more important than (very) minor performance optimizations."
   ]
  }
 ],
 "metadata": {
  "kernelspec": {
   "display_name": "Python 3",
   "language": "python",
   "name": "python3"
  },
  "language_info": {
   "codemirror_mode": {
    "name": "ipython",
    "version": 3
   },
   "file_extension": ".py",
   "mimetype": "text/x-python",
   "name": "python",
   "nbconvert_exporter": "python",
   "pygments_lexer": "ipython3",
   "version": "3.8.6"
  }
 },
 "nbformat": 4,
 "nbformat_minor": 4
}
